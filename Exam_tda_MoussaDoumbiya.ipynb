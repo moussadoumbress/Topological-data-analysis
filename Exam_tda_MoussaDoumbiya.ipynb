{
 "cells": [
  {
   "attachments": {},
   "cell_type": "markdown",
   "metadata": {},
   "source": [
    "## importer les librairies nécessaires\n"
   ]
  },
  {
   "cell_type": "code",
   "execution_count": 3,
   "metadata": {},
   "outputs": [],
   "source": [
    "import numpy as np\n",
    "import matplotlib.pyplot as plt\n",
    "from sklearn.metrics import euclidean_distances\n",
    "import gtda\n",
    "from gtda.homology import VietorisRipsPersistence\n",
    "from gtda.diagrams import PersistenceLandscape, Silhouette\n",
    "from sklearn.datasets import make_circles"
   ]
  },
  {
   "attachments": {},
   "cell_type": "markdown",
   "metadata": {},
   "source": [
    "## Exercice 1"
   ]
  },
  {
   "cell_type": "code",
   "execution_count": 6,
   "metadata": {},
   "outputs": [],
   "source": [
    "X,y=make_circles(noise=30)"
   ]
  },
  {
   "cell_type": "code",
   "execution_count": 7,
   "metadata": {},
   "outputs": [],
   "source": [
    "matrix_adgency=euclidean_distances(X)\n"
   ]
  },
  {
   "cell_type": "code",
   "execution_count": 8,
   "metadata": {},
   "outputs": [
    {
     "name": "stderr",
     "output_type": "stream",
     "text": [
      "/home/ing/.local/lib/python3.10/site-packages/gtda/homology/simplicial.py:232: DataDimensionalityWarning: All arrays/matrices are square. This is consistent with a collection of distance/adjacency matrices, but the entries will be treated as collections of vectors in Euclidean space.\n",
      "  check_point_clouds(X, accept_sparse=True,\n",
      "/home/ing/.local/lib/python3.10/site-packages/gtda/homology/simplicial.py:299: DataDimensionalityWarning: All arrays/matrices are square. This is consistent with a collection of distance/adjacency matrices, but the entries will be treated as collections of vectors in Euclidean space.\n",
      "  X = check_point_clouds(X, accept_sparse=True,\n"
     ]
    },
    {
     "data": {
      "application/vnd.plotly.v1+json": {
       "config": {
        "plotlyServerURL": "https://plot.ly"
       },
       "data": [
        {
         "hoverinfo": "none",
         "line": {
          "color": "black",
          "dash": "dash",
          "width": 1
         },
         "mode": "lines",
         "showlegend": false,
         "type": "scatter",
         "x": [
          -5.3645477294921875,
          273.59193420410156
         ],
         "y": [
          -5.3645477294921875,
          273.59193420410156
         ]
        },
        {
         "hoverinfo": "text",
         "hovertext": [
          "(0.0, 6.814605712890625)",
          "(0.0, 9.268239974975586)",
          "(0.0, 12.662395477294922)",
          "(0.0, 12.909391403198242)",
          "(0.0, 13.06007194519043)",
          "(0.0, 13.201680183410645)",
          "(0.0, 15.495670318603516)",
          "(0.0, 16.601619720458984)",
          "(0.0, 21.097251892089844)",
          "(0.0, 21.554731369018555)",
          "(0.0, 23.730443954467773)",
          "(0.0, 24.129295349121094)",
          "(0.0, 24.97218132019043)",
          "(0.0, 25.645954132080078)",
          "(0.0, 27.209915161132812)",
          "(0.0, 27.371904373168945)",
          "(0.0, 27.484756469726562)",
          "(0.0, 27.670148849487305)",
          "(0.0, 29.769561767578125)",
          "(0.0, 31.264209747314453)",
          "(0.0, 31.788944244384766)",
          "(0.0, 32.143497467041016)",
          "(0.0, 32.745941162109375)",
          "(0.0, 32.84779739379883)",
          "(0.0, 33.633663177490234)",
          "(0.0, 34.886802673339844)",
          "(0.0, 36.035057067871094)",
          "(0.0, 36.05485153198242)",
          "(0.0, 36.14112854003906)",
          "(0.0, 36.30168533325195)",
          "(0.0, 38.89814376831055)",
          "(0.0, 39.3635368347168)",
          "(0.0, 39.429901123046875)",
          "(0.0, 39.66048812866211)",
          "(0.0, 39.89411163330078)",
          "(0.0, 40.52737045288086)",
          "(0.0, 40.726104736328125)",
          "(0.0, 41.20648193359375)",
          "(0.0, 42.631690979003906)",
          "(0.0, 42.6501350402832)",
          "(0.0, 43.33842849731445)",
          "(0.0, 43.52180480957031)",
          "(0.0, 44.42805862426758)",
          "(0.0, 45.729190826416016)",
          "(0.0, 47.44813537597656)",
          "(0.0, 48.27045822143555)",
          "(0.0, 49.33692932128906)",
          "(0.0, 49.419551849365234)",
          "(0.0, 50.15993881225586)",
          "(0.0, 50.4338264465332)",
          "(0.0, 50.53199005126953)",
          "(0.0, 50.75002670288086)",
          "(0.0, 50.90879440307617)",
          "(0.0, 50.93739700317383)",
          "(0.0, 50.94343566894531)",
          "(0.0, 51.19796371459961)",
          "(0.0, 51.443511962890625)",
          "(0.0, 51.75054931640625)",
          "(0.0, 52.77103805541992)",
          "(0.0, 56.394466400146484)",
          "(0.0, 57.61781692504883)",
          "(0.0, 57.98672866821289)",
          "(0.0, 58.521419525146484)",
          "(0.0, 58.71718215942383)",
          "(0.0, 58.77912139892578)",
          "(0.0, 59.59898376464844)",
          "(0.0, 59.70493698120117)",
          "(0.0, 60.984405517578125)",
          "(0.0, 61.916812896728516)",
          "(0.0, 64.75574493408203)",
          "(0.0, 66.07749938964844)",
          "(0.0, 67.10189056396484)",
          "(0.0, 69.17798614501953)",
          "(0.0, 69.28807067871094)",
          "(0.0, 69.39183807373047)",
          "(0.0, 69.52790069580078)",
          "(0.0, 70.0971450805664)",
          "(0.0, 72.84828186035156)",
          "(0.0, 75.1251220703125)",
          "(0.0, 75.69686889648438)",
          "(0.0, 78.30670166015625)",
          "(0.0, 87.0418701171875)",
          "(0.0, 91.67863464355469)",
          "(0.0, 97.21611785888672)",
          "(0.0, 100.01223754882812)",
          "(0.0, 102.5947494506836)",
          "(0.0, 106.95109558105469)",
          "(0.0, 111.0280532836914)",
          "(0.0, 120.4769515991211)",
          "(0.0, 123.92231750488281)",
          "(0.0, 127.75883483886719)",
          "(0.0, 139.20323181152344)",
          "(0.0, 145.31069946289062)",
          "(0.0, 149.27713012695312)",
          "(0.0, 150.3806915283203)",
          "(0.0, 150.84999084472656)",
          "(0.0, 158.2227325439453)",
          "(0.0, 186.15631103515625)",
          "(0.0, 251.55445861816406)"
         ],
         "mode": "markers",
         "name": "H0",
         "type": "scatter",
         "x": [
          0,
          0,
          0,
          0,
          0,
          0,
          0,
          0,
          0,
          0,
          0,
          0,
          0,
          0,
          0,
          0,
          0,
          0,
          0,
          0,
          0,
          0,
          0,
          0,
          0,
          0,
          0,
          0,
          0,
          0,
          0,
          0,
          0,
          0,
          0,
          0,
          0,
          0,
          0,
          0,
          0,
          0,
          0,
          0,
          0,
          0,
          0,
          0,
          0,
          0,
          0,
          0,
          0,
          0,
          0,
          0,
          0,
          0,
          0,
          0,
          0,
          0,
          0,
          0,
          0,
          0,
          0,
          0,
          0,
          0,
          0,
          0,
          0,
          0,
          0,
          0,
          0,
          0,
          0,
          0,
          0,
          0,
          0,
          0,
          0,
          0,
          0,
          0,
          0,
          0,
          0,
          0,
          0,
          0,
          0,
          0,
          0,
          0,
          0
         ],
         "y": [
          6.814605712890625,
          9.268239974975586,
          12.662395477294922,
          12.909391403198242,
          13.06007194519043,
          13.201680183410645,
          15.495670318603516,
          16.601619720458984,
          21.097251892089844,
          21.554731369018555,
          23.730443954467773,
          24.129295349121094,
          24.97218132019043,
          25.645954132080078,
          27.209915161132812,
          27.371904373168945,
          27.484756469726562,
          27.670148849487305,
          29.769561767578125,
          31.264209747314453,
          31.788944244384766,
          32.143497467041016,
          32.745941162109375,
          32.84779739379883,
          33.633663177490234,
          34.886802673339844,
          36.035057067871094,
          36.05485153198242,
          36.14112854003906,
          36.30168533325195,
          38.89814376831055,
          39.3635368347168,
          39.429901123046875,
          39.66048812866211,
          39.89411163330078,
          40.52737045288086,
          40.726104736328125,
          41.20648193359375,
          42.631690979003906,
          42.6501350402832,
          43.33842849731445,
          43.52180480957031,
          44.42805862426758,
          45.729190826416016,
          47.44813537597656,
          48.27045822143555,
          49.33692932128906,
          49.419551849365234,
          50.15993881225586,
          50.4338264465332,
          50.53199005126953,
          50.75002670288086,
          50.90879440307617,
          50.93739700317383,
          50.94343566894531,
          51.19796371459961,
          51.443511962890625,
          51.75054931640625,
          52.77103805541992,
          56.394466400146484,
          57.61781692504883,
          57.98672866821289,
          58.521419525146484,
          58.71718215942383,
          58.77912139892578,
          59.59898376464844,
          59.70493698120117,
          60.984405517578125,
          61.916812896728516,
          64.75574493408203,
          66.07749938964844,
          67.10189056396484,
          69.17798614501953,
          69.28807067871094,
          69.39183807373047,
          69.52790069580078,
          70.0971450805664,
          72.84828186035156,
          75.1251220703125,
          75.69686889648438,
          78.30670166015625,
          87.0418701171875,
          91.67863464355469,
          97.21611785888672,
          100.01223754882812,
          102.5947494506836,
          106.95109558105469,
          111.0280532836914,
          120.4769515991211,
          123.92231750488281,
          127.75883483886719,
          139.20323181152344,
          145.31069946289062,
          149.27713012695312,
          150.3806915283203,
          150.84999084472656,
          158.2227325439453,
          186.15631103515625,
          251.55445861816406
         ]
        },
        {
         "hoverinfo": "text",
         "hovertext": [
          "(205.34356689453125, 263.67108154296875)",
          "(201.89515686035156, 268.2273864746094)",
          "(197.77163696289062, 247.53677368164062)",
          "(166.96539306640625, 174.56582641601562)",
          "(166.82296752929688, 187.53741455078125)",
          "(157.8689727783203, 182.07501220703125)",
          "(142.86178588867188, 147.88511657714844)",
          "(139.23330688476562, 155.36346435546875)",
          "(117.30292510986328, 180.22576904296875)",
          "(112.75698852539062, 127.88134002685547)",
          "(107.42628479003906, 124.37892150878906)",
          "(104.37005615234375, 107.50130462646484)",
          "(101.8766098022461, 116.97162628173828)",
          "(98.51571655273438, 149.72816467285156)",
          "(93.25480651855469, 105.08074951171875)",
          "(87.32398223876953, 150.55471801757812)",
          "(84.76364135742188, 90.25440979003906)",
          "(76.3873519897461, 82.02957153320312)",
          "(69.12542724609375, 98.6034927368164)",
          "(67.79965209960938, 74.68630981445312)",
          "(65.67774200439453, 70.60763549804688)",
          "(60.55953598022461, 83.4118423461914)",
          "(47.75710678100586, 55.05596923828125)"
         ],
         "mode": "markers",
         "name": "H1",
         "type": "scatter",
         "x": [
          205.34356689453125,
          201.89515686035156,
          197.77163696289062,
          166.96539306640625,
          166.82296752929688,
          157.8689727783203,
          142.86178588867188,
          139.23330688476562,
          117.30292510986328,
          112.75698852539062,
          107.42628479003906,
          104.37005615234375,
          101.8766098022461,
          98.51571655273438,
          93.25480651855469,
          87.32398223876953,
          84.76364135742188,
          76.3873519897461,
          69.12542724609375,
          67.79965209960938,
          65.67774200439453,
          60.55953598022461,
          47.75710678100586
         ],
         "y": [
          263.67108154296875,
          268.2273864746094,
          247.53677368164062,
          174.56582641601562,
          187.53741455078125,
          182.07501220703125,
          147.88511657714844,
          155.36346435546875,
          180.22576904296875,
          127.88134002685547,
          124.37892150878906,
          107.50130462646484,
          116.97162628173828,
          149.72816467285156,
          105.08074951171875,
          150.55471801757812,
          90.25440979003906,
          82.02957153320312,
          98.6034927368164,
          74.68630981445312,
          70.60763549804688,
          83.4118423461914,
          55.05596923828125
         ]
        },
        {
         "hoverinfo": "text",
         "hovertext": [],
         "mode": "markers",
         "name": "H2",
         "type": "scatter",
         "x": [],
         "y": []
        }
       ],
       "layout": {
        "height": 500,
        "plot_bgcolor": "white",
        "template": {
         "data": {
          "bar": [
           {
            "error_x": {
             "color": "#2a3f5f"
            },
            "error_y": {
             "color": "#2a3f5f"
            },
            "marker": {
             "line": {
              "color": "#E5ECF6",
              "width": 0.5
             },
             "pattern": {
              "fillmode": "overlay",
              "size": 10,
              "solidity": 0.2
             }
            },
            "type": "bar"
           }
          ],
          "barpolar": [
           {
            "marker": {
             "line": {
              "color": "#E5ECF6",
              "width": 0.5
             },
             "pattern": {
              "fillmode": "overlay",
              "size": 10,
              "solidity": 0.2
             }
            },
            "type": "barpolar"
           }
          ],
          "carpet": [
           {
            "aaxis": {
             "endlinecolor": "#2a3f5f",
             "gridcolor": "white",
             "linecolor": "white",
             "minorgridcolor": "white",
             "startlinecolor": "#2a3f5f"
            },
            "baxis": {
             "endlinecolor": "#2a3f5f",
             "gridcolor": "white",
             "linecolor": "white",
             "minorgridcolor": "white",
             "startlinecolor": "#2a3f5f"
            },
            "type": "carpet"
           }
          ],
          "choropleth": [
           {
            "colorbar": {
             "outlinewidth": 0,
             "ticks": ""
            },
            "type": "choropleth"
           }
          ],
          "contour": [
           {
            "colorbar": {
             "outlinewidth": 0,
             "ticks": ""
            },
            "colorscale": [
             [
              0,
              "#0d0887"
             ],
             [
              0.1111111111111111,
              "#46039f"
             ],
             [
              0.2222222222222222,
              "#7201a8"
             ],
             [
              0.3333333333333333,
              "#9c179e"
             ],
             [
              0.4444444444444444,
              "#bd3786"
             ],
             [
              0.5555555555555556,
              "#d8576b"
             ],
             [
              0.6666666666666666,
              "#ed7953"
             ],
             [
              0.7777777777777778,
              "#fb9f3a"
             ],
             [
              0.8888888888888888,
              "#fdca26"
             ],
             [
              1,
              "#f0f921"
             ]
            ],
            "type": "contour"
           }
          ],
          "contourcarpet": [
           {
            "colorbar": {
             "outlinewidth": 0,
             "ticks": ""
            },
            "type": "contourcarpet"
           }
          ],
          "heatmap": [
           {
            "colorbar": {
             "outlinewidth": 0,
             "ticks": ""
            },
            "colorscale": [
             [
              0,
              "#0d0887"
             ],
             [
              0.1111111111111111,
              "#46039f"
             ],
             [
              0.2222222222222222,
              "#7201a8"
             ],
             [
              0.3333333333333333,
              "#9c179e"
             ],
             [
              0.4444444444444444,
              "#bd3786"
             ],
             [
              0.5555555555555556,
              "#d8576b"
             ],
             [
              0.6666666666666666,
              "#ed7953"
             ],
             [
              0.7777777777777778,
              "#fb9f3a"
             ],
             [
              0.8888888888888888,
              "#fdca26"
             ],
             [
              1,
              "#f0f921"
             ]
            ],
            "type": "heatmap"
           }
          ],
          "heatmapgl": [
           {
            "colorbar": {
             "outlinewidth": 0,
             "ticks": ""
            },
            "colorscale": [
             [
              0,
              "#0d0887"
             ],
             [
              0.1111111111111111,
              "#46039f"
             ],
             [
              0.2222222222222222,
              "#7201a8"
             ],
             [
              0.3333333333333333,
              "#9c179e"
             ],
             [
              0.4444444444444444,
              "#bd3786"
             ],
             [
              0.5555555555555556,
              "#d8576b"
             ],
             [
              0.6666666666666666,
              "#ed7953"
             ],
             [
              0.7777777777777778,
              "#fb9f3a"
             ],
             [
              0.8888888888888888,
              "#fdca26"
             ],
             [
              1,
              "#f0f921"
             ]
            ],
            "type": "heatmapgl"
           }
          ],
          "histogram": [
           {
            "marker": {
             "pattern": {
              "fillmode": "overlay",
              "size": 10,
              "solidity": 0.2
             }
            },
            "type": "histogram"
           }
          ],
          "histogram2d": [
           {
            "colorbar": {
             "outlinewidth": 0,
             "ticks": ""
            },
            "colorscale": [
             [
              0,
              "#0d0887"
             ],
             [
              0.1111111111111111,
              "#46039f"
             ],
             [
              0.2222222222222222,
              "#7201a8"
             ],
             [
              0.3333333333333333,
              "#9c179e"
             ],
             [
              0.4444444444444444,
              "#bd3786"
             ],
             [
              0.5555555555555556,
              "#d8576b"
             ],
             [
              0.6666666666666666,
              "#ed7953"
             ],
             [
              0.7777777777777778,
              "#fb9f3a"
             ],
             [
              0.8888888888888888,
              "#fdca26"
             ],
             [
              1,
              "#f0f921"
             ]
            ],
            "type": "histogram2d"
           }
          ],
          "histogram2dcontour": [
           {
            "colorbar": {
             "outlinewidth": 0,
             "ticks": ""
            },
            "colorscale": [
             [
              0,
              "#0d0887"
             ],
             [
              0.1111111111111111,
              "#46039f"
             ],
             [
              0.2222222222222222,
              "#7201a8"
             ],
             [
              0.3333333333333333,
              "#9c179e"
             ],
             [
              0.4444444444444444,
              "#bd3786"
             ],
             [
              0.5555555555555556,
              "#d8576b"
             ],
             [
              0.6666666666666666,
              "#ed7953"
             ],
             [
              0.7777777777777778,
              "#fb9f3a"
             ],
             [
              0.8888888888888888,
              "#fdca26"
             ],
             [
              1,
              "#f0f921"
             ]
            ],
            "type": "histogram2dcontour"
           }
          ],
          "mesh3d": [
           {
            "colorbar": {
             "outlinewidth": 0,
             "ticks": ""
            },
            "type": "mesh3d"
           }
          ],
          "parcoords": [
           {
            "line": {
             "colorbar": {
              "outlinewidth": 0,
              "ticks": ""
             }
            },
            "type": "parcoords"
           }
          ],
          "pie": [
           {
            "automargin": true,
            "type": "pie"
           }
          ],
          "scatter": [
           {
            "fillpattern": {
             "fillmode": "overlay",
             "size": 10,
             "solidity": 0.2
            },
            "type": "scatter"
           }
          ],
          "scatter3d": [
           {
            "line": {
             "colorbar": {
              "outlinewidth": 0,
              "ticks": ""
             }
            },
            "marker": {
             "colorbar": {
              "outlinewidth": 0,
              "ticks": ""
             }
            },
            "type": "scatter3d"
           }
          ],
          "scattercarpet": [
           {
            "marker": {
             "colorbar": {
              "outlinewidth": 0,
              "ticks": ""
             }
            },
            "type": "scattercarpet"
           }
          ],
          "scattergeo": [
           {
            "marker": {
             "colorbar": {
              "outlinewidth": 0,
              "ticks": ""
             }
            },
            "type": "scattergeo"
           }
          ],
          "scattergl": [
           {
            "marker": {
             "colorbar": {
              "outlinewidth": 0,
              "ticks": ""
             }
            },
            "type": "scattergl"
           }
          ],
          "scattermapbox": [
           {
            "marker": {
             "colorbar": {
              "outlinewidth": 0,
              "ticks": ""
             }
            },
            "type": "scattermapbox"
           }
          ],
          "scatterpolar": [
           {
            "marker": {
             "colorbar": {
              "outlinewidth": 0,
              "ticks": ""
             }
            },
            "type": "scatterpolar"
           }
          ],
          "scatterpolargl": [
           {
            "marker": {
             "colorbar": {
              "outlinewidth": 0,
              "ticks": ""
             }
            },
            "type": "scatterpolargl"
           }
          ],
          "scatterternary": [
           {
            "marker": {
             "colorbar": {
              "outlinewidth": 0,
              "ticks": ""
             }
            },
            "type": "scatterternary"
           }
          ],
          "surface": [
           {
            "colorbar": {
             "outlinewidth": 0,
             "ticks": ""
            },
            "colorscale": [
             [
              0,
              "#0d0887"
             ],
             [
              0.1111111111111111,
              "#46039f"
             ],
             [
              0.2222222222222222,
              "#7201a8"
             ],
             [
              0.3333333333333333,
              "#9c179e"
             ],
             [
              0.4444444444444444,
              "#bd3786"
             ],
             [
              0.5555555555555556,
              "#d8576b"
             ],
             [
              0.6666666666666666,
              "#ed7953"
             ],
             [
              0.7777777777777778,
              "#fb9f3a"
             ],
             [
              0.8888888888888888,
              "#fdca26"
             ],
             [
              1,
              "#f0f921"
             ]
            ],
            "type": "surface"
           }
          ],
          "table": [
           {
            "cells": {
             "fill": {
              "color": "#EBF0F8"
             },
             "line": {
              "color": "white"
             }
            },
            "header": {
             "fill": {
              "color": "#C8D4E3"
             },
             "line": {
              "color": "white"
             }
            },
            "type": "table"
           }
          ]
         },
         "layout": {
          "annotationdefaults": {
           "arrowcolor": "#2a3f5f",
           "arrowhead": 0,
           "arrowwidth": 1
          },
          "autotypenumbers": "strict",
          "coloraxis": {
           "colorbar": {
            "outlinewidth": 0,
            "ticks": ""
           }
          },
          "colorscale": {
           "diverging": [
            [
             0,
             "#8e0152"
            ],
            [
             0.1,
             "#c51b7d"
            ],
            [
             0.2,
             "#de77ae"
            ],
            [
             0.3,
             "#f1b6da"
            ],
            [
             0.4,
             "#fde0ef"
            ],
            [
             0.5,
             "#f7f7f7"
            ],
            [
             0.6,
             "#e6f5d0"
            ],
            [
             0.7,
             "#b8e186"
            ],
            [
             0.8,
             "#7fbc41"
            ],
            [
             0.9,
             "#4d9221"
            ],
            [
             1,
             "#276419"
            ]
           ],
           "sequential": [
            [
             0,
             "#0d0887"
            ],
            [
             0.1111111111111111,
             "#46039f"
            ],
            [
             0.2222222222222222,
             "#7201a8"
            ],
            [
             0.3333333333333333,
             "#9c179e"
            ],
            [
             0.4444444444444444,
             "#bd3786"
            ],
            [
             0.5555555555555556,
             "#d8576b"
            ],
            [
             0.6666666666666666,
             "#ed7953"
            ],
            [
             0.7777777777777778,
             "#fb9f3a"
            ],
            [
             0.8888888888888888,
             "#fdca26"
            ],
            [
             1,
             "#f0f921"
            ]
           ],
           "sequentialminus": [
            [
             0,
             "#0d0887"
            ],
            [
             0.1111111111111111,
             "#46039f"
            ],
            [
             0.2222222222222222,
             "#7201a8"
            ],
            [
             0.3333333333333333,
             "#9c179e"
            ],
            [
             0.4444444444444444,
             "#bd3786"
            ],
            [
             0.5555555555555556,
             "#d8576b"
            ],
            [
             0.6666666666666666,
             "#ed7953"
            ],
            [
             0.7777777777777778,
             "#fb9f3a"
            ],
            [
             0.8888888888888888,
             "#fdca26"
            ],
            [
             1,
             "#f0f921"
            ]
           ]
          },
          "colorway": [
           "#636efa",
           "#EF553B",
           "#00cc96",
           "#ab63fa",
           "#FFA15A",
           "#19d3f3",
           "#FF6692",
           "#B6E880",
           "#FF97FF",
           "#FECB52"
          ],
          "font": {
           "color": "#2a3f5f"
          },
          "geo": {
           "bgcolor": "white",
           "lakecolor": "white",
           "landcolor": "#E5ECF6",
           "showlakes": true,
           "showland": true,
           "subunitcolor": "white"
          },
          "hoverlabel": {
           "align": "left"
          },
          "hovermode": "closest",
          "mapbox": {
           "style": "light"
          },
          "paper_bgcolor": "white",
          "plot_bgcolor": "#E5ECF6",
          "polar": {
           "angularaxis": {
            "gridcolor": "white",
            "linecolor": "white",
            "ticks": ""
           },
           "bgcolor": "#E5ECF6",
           "radialaxis": {
            "gridcolor": "white",
            "linecolor": "white",
            "ticks": ""
           }
          },
          "scene": {
           "xaxis": {
            "backgroundcolor": "#E5ECF6",
            "gridcolor": "white",
            "gridwidth": 2,
            "linecolor": "white",
            "showbackground": true,
            "ticks": "",
            "zerolinecolor": "white"
           },
           "yaxis": {
            "backgroundcolor": "#E5ECF6",
            "gridcolor": "white",
            "gridwidth": 2,
            "linecolor": "white",
            "showbackground": true,
            "ticks": "",
            "zerolinecolor": "white"
           },
           "zaxis": {
            "backgroundcolor": "#E5ECF6",
            "gridcolor": "white",
            "gridwidth": 2,
            "linecolor": "white",
            "showbackground": true,
            "ticks": "",
            "zerolinecolor": "white"
           }
          },
          "shapedefaults": {
           "line": {
            "color": "#2a3f5f"
           }
          },
          "ternary": {
           "aaxis": {
            "gridcolor": "white",
            "linecolor": "white",
            "ticks": ""
           },
           "baxis": {
            "gridcolor": "white",
            "linecolor": "white",
            "ticks": ""
           },
           "bgcolor": "#E5ECF6",
           "caxis": {
            "gridcolor": "white",
            "linecolor": "white",
            "ticks": ""
           }
          },
          "title": {
           "x": 0.05
          },
          "xaxis": {
           "automargin": true,
           "gridcolor": "white",
           "linecolor": "white",
           "ticks": "",
           "title": {
            "standoff": 15
           },
           "zerolinecolor": "white",
           "zerolinewidth": 2
          },
          "yaxis": {
           "automargin": true,
           "gridcolor": "white",
           "linecolor": "white",
           "ticks": "",
           "title": {
            "standoff": 15
           },
           "zerolinecolor": "white",
           "zerolinewidth": 2
          }
         }
        },
        "width": 500,
        "xaxis": {
         "autorange": false,
         "exponentformat": "e",
         "linecolor": "black",
         "linewidth": 1,
         "mirror": false,
         "range": [
          -5.3645477294921875,
          273.59193420410156
         ],
         "showexponent": "all",
         "showline": true,
         "side": "bottom",
         "ticks": "outside",
         "title": {
          "text": "Birth"
         },
         "type": "linear",
         "zeroline": true
        },
        "yaxis": {
         "autorange": false,
         "exponentformat": "e",
         "linecolor": "black",
         "linewidth": 1,
         "mirror": false,
         "range": [
          -5.3645477294921875,
          273.59193420410156
         ],
         "scaleanchor": "x",
         "scaleratio": 1,
         "showexponent": "all",
         "showline": true,
         "side": "left",
         "ticks": "outside",
         "title": {
          "text": "Death"
         },
         "type": "linear",
         "zeroline": true
        }
       }
      }
     },
     "metadata": {},
     "output_type": "display_data"
    }
   ],
   "source": [
    "\n",
    "VR=VietorisRipsPersistence(homology_dimensions=[0,1,2])\n",
    "diag=VR.fit_transform([matrix_adgency])\n",
    "VR.plot(diag)"
   ]
  },
  {
   "attachments": {},
   "cell_type": "markdown",
   "metadata": {},
   "source": [
    "## Exercice 2"
   ]
  },
  {
   "cell_type": "code",
   "execution_count": 9,
   "metadata": {},
   "outputs": [],
   "source": [
    "from generate_dataset import make_point_clouds\n",
    "X,y=make_point_clouds(n_samples_per_shape=10,n_points=20,noise=0.5)\n",
    "\n",
    "\n"
   ]
  },
  {
   "cell_type": "code",
   "execution_count": 10,
   "metadata": {},
   "outputs": [
    {
     "data": {
      "text/plain": [
       "1.0"
      ]
     },
     "execution_count": 10,
     "metadata": {},
     "output_type": "execute_result"
    }
   ],
   "source": [
    "from sklearn.neighbors import KNeighborsClassifier\n",
    "from gtda.pipeline import make_pipeline\n",
    "from gtda.diagrams import PersistenceEntropy\n",
    "from sklearn.model_selection import train_test_split\n",
    "\n",
    "\n",
    "knn = KNeighborsClassifier()\n",
    "PE=PersistenceEntropy()\n",
    "diagrams=VR.fit_transform(X)\n",
    "X=PE.fit_transform(diagrams)\n",
    "X_train, X_valid, y_train, y_valid = train_test_split(X, y)\n",
    "knn.fit(X_train,y_train)\n",
    "\n",
    "knn.score(X_valid, y_valid)"
   ]
  },
  {
   "attachments": {},
   "cell_type": "markdown",
   "metadata": {},
   "source": [
    "## Exercice 3"
   ]
  },
  {
   "cell_type": "code",
   "execution_count": 11,
   "metadata": {},
   "outputs": [],
   "source": [
    "import torchvision\n",
    "from torchvision import transforms\n",
    "from torchvision.datasets import MNIST\n",
    "img_transform = transforms.Compose([\n",
    "    transforms.ToTensor(),\n",
    "    transforms.Normalize((0.5,), (0.5,))\n",
    "])\n",
    "\n",
    "dataset = MNIST('./data', transform=img_transform, download=True)\n"
   ]
  },
  {
   "cell_type": "code",
   "execution_count": null,
   "metadata": {},
   "outputs": [],
   "source": [
    "from gtda.diagrams import PairwiseDistance\n",
    "from sklearn.metrics import accuracy_score,confusion_matrix\n",
    "\n",
    "\n",
    "X,y=dataset.data,dataset.targets\n",
    "X=X.cpu().detach().numpy()\n",
    "y=y.cpu().detach().numpy()\n",
    "X_train, X_valid, y_train, y_valid = train_test_split(X, y,train_size=60,test_size=10)\n",
    "X_train=X_train.reshape(60,28*28)\n",
    "#y_train=y_train.reshape\n",
    "#y_train=y_train[:,None,None]\n",
    "\n",
    "landscape=PairwiseDistance(metric='landscape')\n",
    "botleneck=PairwiseDistance(metric='bottleneck')\n",
    "persistence_img=PairwiseDistance(metric='persistence_image')\n",
    "\n",
    "model=make_pipeline(VR,landscape,botleneck,persistence_img,knn)\n",
    "model.fit(X_train,y_train)\n"
   ]
  },
  {
   "cell_type": "code",
   "execution_count": null,
   "metadata": {},
   "outputs": [],
   "source": [
    "accuracy_score(y_valid,model.predict(X_valid))\n",
    "confusion_matrix(y_valid,model.predict(X_valid))"
   ]
  },
  {
   "cell_type": "code",
   "execution_count": 28,
   "metadata": {},
   "outputs": [
    {
     "data": {
      "text/plain": [
       "(1000, 28, 28)"
      ]
     },
     "execution_count": 28,
     "metadata": {},
     "output_type": "execute_result"
    }
   ],
   "source": [
    "X_train.shape"
   ]
  },
  {
   "attachments": {},
   "cell_type": "markdown",
   "metadata": {},
   "source": [
    "J'ai passé beacoup de temps à faire marcher le code pour entrainer le modèle mais je n'ai pas réussi "
   ]
  }
 ],
 "metadata": {
  "kernelspec": {
   "display_name": "Python 3",
   "language": "python",
   "name": "python3"
  },
  "language_info": {
   "codemirror_mode": {
    "name": "ipython",
    "version": 3
   },
   "file_extension": ".py",
   "mimetype": "text/x-python",
   "name": "python",
   "nbconvert_exporter": "python",
   "pygments_lexer": "ipython3",
   "version": "3.10.6"
  },
  "orig_nbformat": 4,
  "vscode": {
   "interpreter": {
    "hash": "916dbcbb3f70747c44a77c7bcd40155683ae19c65e1c03b4aa3499c5328201f1"
   }
  }
 },
 "nbformat": 4,
 "nbformat_minor": 2
}
